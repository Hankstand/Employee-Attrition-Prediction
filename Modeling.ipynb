{
  "nbformat": 4,
  "nbformat_minor": 0,
  "metadata": {
    "colab": {
      "provenance": []
    },
    "kernelspec": {
      "name": "python3",
      "display_name": "Python 3"
    },
    "language_info": {
      "name": "python"
    }
  },
  "cells": [
    {
      "cell_type": "markdown",
      "source": [
        "## Load Data"
      ],
      "metadata": {
        "id": "d0xd43oMfpDU"
      }
    },
    {
      "cell_type": "code",
      "execution_count": null,
      "metadata": {
        "colab": {
          "base_uri": "https://localhost:8080/"
        },
        "id": "3XidCTltZIKJ",
        "outputId": "5c0e933d-1863-4213-d9ac-5ce7c5f2352d"
      },
      "outputs": [
        {
          "output_type": "stream",
          "name": "stdout",
          "text": [
            "Mounted at /content/drive\n"
          ]
        }
      ],
      "source": [
        "from google.colab import drive\n",
        "drive.mount('/content/drive')"
      ]
    },
    {
      "cell_type": "markdown",
      "source": [
        "## Import Libraries"
      ],
      "metadata": {
        "id": "QU454hNpfriP"
      }
    },
    {
      "cell_type": "code",
      "source": [
        "import pandas as pd\n",
        "import numpy as np\n",
        "import matplotlib.pyplot as plt\n",
        "import seaborn as sns\n",
        "\n",
        "from sklearn.model_selection import train_test_split\n",
        "from sklearn.preprocessing import LabelEncoder, StandardScaler\n",
        "from sklearn.linear_model import LogisticRegression\n",
        "from sklearn.ensemble import RandomForestClassifier\n",
        "from sklearn.metrics import confusion_matrix, classification_report, roc_auc_score, roc_curve, RocCurveDisplay"
      ],
      "metadata": {
        "id": "9C3Z9DJeZQYq"
      },
      "execution_count": null,
      "outputs": []
    },
    {
      "cell_type": "code",
      "source": [
        "df = pd.read_csv('/content/drive/MyDrive/Latihan Project/hr-analytics-attrition/data/WA_Fn-UseC_-HR-Employee-Attrition.csv')"
      ],
      "metadata": {
        "id": "G6BnDvF2aVy2"
      },
      "execution_count": null,
      "outputs": []
    },
    {
      "cell_type": "markdown",
      "source": [
        "## Preprocessing"
      ],
      "metadata": {
        "id": "Ax7VpTdBf32T"
      }
    },
    {
      "cell_type": "code",
      "source": [
        "print(\"Nilai unik Attrition:\", df['Attrition'].unique())"
      ],
      "metadata": {
        "colab": {
          "base_uri": "https://localhost:8080/"
        },
        "id": "3j-Q0eqGhqOs",
        "outputId": "c6e5496f-753b-422e-900e-c08575106552"
      },
      "execution_count": null,
      "outputs": [
        {
          "output_type": "stream",
          "name": "stdout",
          "text": [
            "Nilai unik Attrition: ['Yes' 'No']\n"
          ]
        }
      ]
    },
    {
      "cell_type": "code",
      "source": [
        "constant_cols = df.nunique()[df.nunique() == 1].index.tolist()\n",
        "print(\"Fitur konstan yang akan dihapus:\", constant_cols)"
      ],
      "metadata": {
        "colab": {
          "base_uri": "https://localhost:8080/"
        },
        "id": "kbcCojdEg8lN",
        "outputId": "e7c76107-7e8e-4fd6-a4cc-e10988e8c12a"
      },
      "execution_count": null,
      "outputs": [
        {
          "output_type": "stream",
          "name": "stdout",
          "text": [
            "Fitur konstan yang akan dihapus: ['EmployeeCount', 'Over18', 'StandardHours']\n"
          ]
        }
      ]
    },
    {
      "cell_type": "code",
      "source": [
        "num_df = df.select_dtypes(include=np.number)\n",
        "corr_matrix = num_df.corr().abs()\n",
        "upper_tri = corr_matrix.where(np.triu(np.ones(corr_matrix.shape), k=1).astype(bool))\n",
        "high_corr_cols = [col for col in upper_tri.columns if any(upper_tri[col] > 0.85)]\n",
        "print(\"Fitur dengan korelasi tinggi yang akan dihapus:\", high_corr_cols)"
      ],
      "metadata": {
        "colab": {
          "base_uri": "https://localhost:8080/"
        },
        "id": "dTbs_WGIjodg",
        "outputId": "707c3b0f-6c62-401c-e6d1-f926ff15284f"
      },
      "execution_count": null,
      "outputs": [
        {
          "output_type": "stream",
          "name": "stdout",
          "text": [
            "Fitur dengan korelasi tinggi yang akan dihapus: ['MonthlyIncome']\n"
          ]
        }
      ]
    },
    {
      "cell_type": "code",
      "source": [
        "cat_cols = df.select_dtypes(include='object').columns\n",
        "for col in cat_cols:\n",
        "    print(f\"\\nDistribusi {col}:\\n{df[col].value_counts(normalize=True)}\")\n",
        "\n",
        "print(\"\\nNilai unik JobLevel:\", df['JobLevel'].unique())"
      ],
      "metadata": {
        "colab": {
          "base_uri": "https://localhost:8080/"
        },
        "id": "uQ46S4nIiIOp",
        "outputId": "9a04486a-c416-4380-9b17-215bca5d742f"
      },
      "execution_count": null,
      "outputs": [
        {
          "output_type": "stream",
          "name": "stdout",
          "text": [
            "\n",
            "Distribusi Attrition:\n",
            "Attrition\n",
            "No     0.838776\n",
            "Yes    0.161224\n",
            "Name: proportion, dtype: float64\n",
            "\n",
            "Distribusi BusinessTravel:\n",
            "BusinessTravel\n",
            "Travel_Rarely        0.709524\n",
            "Travel_Frequently    0.188435\n",
            "Non-Travel           0.102041\n",
            "Name: proportion, dtype: float64\n",
            "\n",
            "Distribusi Department:\n",
            "Department\n",
            "Research & Development    0.653741\n",
            "Sales                     0.303401\n",
            "Human Resources           0.042857\n",
            "Name: proportion, dtype: float64\n",
            "\n",
            "Distribusi EducationField:\n",
            "EducationField\n",
            "Life Sciences       0.412245\n",
            "Medical             0.315646\n",
            "Marketing           0.108163\n",
            "Technical Degree    0.089796\n",
            "Other               0.055782\n",
            "Human Resources     0.018367\n",
            "Name: proportion, dtype: float64\n",
            "\n",
            "Distribusi Gender:\n",
            "Gender\n",
            "Male      0.6\n",
            "Female    0.4\n",
            "Name: proportion, dtype: float64\n",
            "\n",
            "Distribusi JobRole:\n",
            "JobRole\n",
            "Sales Executive              0.221769\n",
            "Research Scientist           0.198639\n",
            "Laboratory Technician        0.176190\n",
            "Manufacturing Director       0.098639\n",
            "Healthcare Representative    0.089116\n",
            "Manager                      0.069388\n",
            "Sales Representative         0.056463\n",
            "Research Director            0.054422\n",
            "Human Resources              0.035374\n",
            "Name: proportion, dtype: float64\n",
            "\n",
            "Distribusi MaritalStatus:\n",
            "MaritalStatus\n",
            "Married     0.457823\n",
            "Single      0.319728\n",
            "Divorced    0.222449\n",
            "Name: proportion, dtype: float64\n",
            "\n",
            "Distribusi Over18:\n",
            "Over18\n",
            "Y    1.0\n",
            "Name: proportion, dtype: float64\n",
            "\n",
            "Distribusi OverTime:\n",
            "OverTime\n",
            "No     0.717007\n",
            "Yes    0.282993\n",
            "Name: proportion, dtype: float64\n",
            "\n",
            "Nilai unik JobLevel: [2 1 3 4 5]\n"
          ]
        }
      ]
    },
    {
      "cell_type": "code",
      "source": [
        "drop_cols = ['EmployeeCount', 'EmployeeNumber', 'Over18', 'StandardHours'] + high_corr_cols + constant_cols\n",
        "drop_cols = list(set(drop_cols))\n",
        "print(\"\\nKolom yang akan di-drop:\", drop_cols)\n",
        "df.drop(drop_cols, axis=1, inplace=True)"
      ],
      "metadata": {
        "colab": {
          "base_uri": "https://localhost:8080/"
        },
        "id": "sZd5-Dfva3Om",
        "outputId": "4ef22a71-adc9-44b2-c14d-63fdd0392f49"
      },
      "execution_count": null,
      "outputs": [
        {
          "output_type": "stream",
          "name": "stdout",
          "text": [
            "\n",
            "Kolom yang akan di-drop: ['MonthlyIncome', 'EmployeeNumber', 'StandardHours', 'EmployeeCount', 'Over18']\n"
          ]
        }
      ]
    },
    {
      "cell_type": "code",
      "source": [
        "df['Attrition'] = df['Attrition'].map({'Yes': 1, 'No': 0})"
      ],
      "metadata": {
        "id": "X3YiOPwJdp2h"
      },
      "execution_count": null,
      "outputs": []
    },
    {
      "cell_type": "code",
      "source": [
        "df['Gender'] = df['Gender'].map({'Male': 0, 'Female': 1})\n",
        "df['OverTime'] = df['OverTime'].map({'No': 0, 'Yes': 1})"
      ],
      "metadata": {
        "id": "HGbzxb5LjA6u"
      },
      "execution_count": null,
      "outputs": []
    },
    {
      "cell_type": "code",
      "source": [
        "df = pd.get_dummies(df, columns=[\n",
        "    'BusinessTravel', 'Department', 'EducationField',\n",
        "    'JobRole', 'MaritalStatus'\n",
        "], drop_first=True)"
      ],
      "metadata": {
        "id": "IvWkiXkIa_LQ"
      },
      "execution_count": null,
      "outputs": []
    },
    {
      "cell_type": "code",
      "source": [
        "# Feature engineering\n",
        "df['YearsInSameRoleRatio'] = df['YearsInCurrentRole'] / (df['TotalWorkingYears'] + 1)\n",
        "df['YearsWithManagerRatio'] = df['YearsWithCurrManager'] / (df['YearsAtCompany'] + 1)\n",
        "df['PromotionGap'] = df['YearsAtCompany'] - df['YearsSinceLastPromotion']"
      ],
      "metadata": {
        "id": "tw2W7ebaed4A"
      },
      "execution_count": null,
      "outputs": []
    },
    {
      "cell_type": "code",
      "source": [
        "X = df.drop('Attrition', axis=1)\n",
        "y = df['Attrition']"
      ],
      "metadata": {
        "id": "gJYWMW7Pc314"
      },
      "execution_count": null,
      "outputs": []
    },
    {
      "cell_type": "code",
      "source": [
        "X_train, X_test, y_train, y_test = train_test_split(\n",
        "    X, y, test_size=0.3, stratify=y, random_state=42\n",
        ")"
      ],
      "metadata": {
        "id": "hVV3c1JyeL3r"
      },
      "execution_count": null,
      "outputs": []
    },
    {
      "cell_type": "code",
      "source": [
        "scaler = StandardScaler()\n",
        "X_train_scaled = scaler.fit_transform(X_train)\n",
        "X_test_scaled = scaler.transform(X_test)"
      ],
      "metadata": {
        "id": "ZgHcL_4mnX7W"
      },
      "execution_count": null,
      "outputs": []
    },
    {
      "cell_type": "markdown",
      "source": [
        "## Modeling"
      ],
      "metadata": {
        "id": "zkwtzMTbn6hT"
      }
    },
    {
      "cell_type": "markdown",
      "source": [
        "### Logistic Regression"
      ],
      "metadata": {
        "id": "GSHFcfF4oARh"
      }
    },
    {
      "cell_type": "code",
      "source": [
        "logreg = LogisticRegression(max_iter=1000, random_state=42)\n",
        "logreg.fit(X_train_scaled, y_train)\n",
        "\n",
        "y_pred_log = logreg.predict(X_test_scaled)\n",
        "y_proba_log = logreg.predict_proba(X_test_scaled)[:, 1]"
      ],
      "metadata": {
        "id": "FvxbQ7eCn8D-"
      },
      "execution_count": null,
      "outputs": []
    },
    {
      "cell_type": "code",
      "source": [
        "print(\"=== Logistic Regression ===\")\n",
        "print(\"Confusion Matrix:\")\n",
        "print(confusion_matrix(y_test, y_pred_log))\n",
        "print(\"\\nClassification Report:\")\n",
        "print(classification_report(y_test, y_pred_log))\n",
        "print(\"ROC-AUC:\", roc_auc_score(y_test, y_proba_log))"
      ],
      "metadata": {
        "colab": {
          "base_uri": "https://localhost:8080/"
        },
        "id": "CGgcTfT_oTZS",
        "outputId": "301fcaeb-66e8-4896-c72f-70b9d08f5362"
      },
      "execution_count": null,
      "outputs": [
        {
          "output_type": "stream",
          "name": "stdout",
          "text": [
            "=== Logistic Regression ===\n",
            "Confusion Matrix:\n",
            "[[358  12]\n",
            " [ 44  27]]\n",
            "\n",
            "Classification Report:\n",
            "              precision    recall  f1-score   support\n",
            "\n",
            "           0       0.89      0.97      0.93       370\n",
            "           1       0.69      0.38      0.49        71\n",
            "\n",
            "    accuracy                           0.87       441\n",
            "   macro avg       0.79      0.67      0.71       441\n",
            "weighted avg       0.86      0.87      0.86       441\n",
            "\n",
            "ROC-AUC: 0.8228778073848495\n"
          ]
        }
      ]
    },
    {
      "cell_type": "code",
      "source": [
        "RocCurveDisplay.from_estimator(logreg, X_test_scaled, y_test)\n",
        "plt.title(\"ROC Curve - Logistic Regression\")\n",
        "plt.show()"
      ],
      "metadata": {
        "colab": {
          "base_uri": "https://localhost:8080/",
          "height": 472
        },
        "id": "KedfALDxoa_-",
        "outputId": "820d045a-53c4-41bd-c3db-f46685df834d"
      },
      "execution_count": null,
      "outputs": [
        {
          "output_type": "display_data",
          "data": {
            "text/plain": [
              "<Figure size 640x480 with 1 Axes>"
            ],
            "image/png": "[encoded data removed]"
          },
          "metadata": {}
        }
      ]
    },
    {
      "cell_type": "code",
      "source": [
        "coeff_df = pd.DataFrame({\n",
        "    'Feature': X.columns,\n",
        "    'Coefficient': logreg.coef_[0]\n",
        "}).sort_values(by='Coefficient', key=abs, ascending=False)\n",
        "\n",
        "print(\"Top fitur (Logistic Regression):\")\n",
        "print(coeff_df.head(10))"
      ],
      "metadata": {
        "colab": {
          "base_uri": "https://localhost:8080/"
        },
        "id": "6It_DPOqppuc",
        "outputId": "565ff9bb-b6be-40bb-9bef-b8dfd5d10866"
      },
      "execution_count": null,
      "outputs": [
        {
          "output_type": "stream",
          "name": "stdout",
          "text": [
            "Top fitur (Logistic Regression):\n",
            "                             Feature  Coefficient\n",
            "12                          OverTime     0.889203\n",
            "17                 TotalWorkingYears    -0.699394\n",
            "39           JobRole_Sales Executive     0.683334\n",
            "34     JobRole_Laboratory Technician     0.659943\n",
            "24  BusinessTravel_Travel_Frequently     0.659868\n",
            "40      JobRole_Sales Representative     0.588857\n",
            "44             YearsWithManagerRatio    -0.561539\n",
            "23              YearsWithCurrManager     0.503560\n",
            "11                NumCompaniesWorked     0.501904\n",
            "4            EnvironmentSatisfaction    -0.458589\n"
          ]
        }
      ]
    },
    {
      "cell_type": "markdown",
      "source": [
        "### Random Forest"
      ],
      "metadata": {
        "id": "sCyBuGLMo6YT"
      }
    },
    {
      "cell_type": "code",
      "source": [
        "rf = RandomForestClassifier(n_estimators=100, random_state=42)\n",
        "rf.fit(X_train, y_train)  # tanpa scaling\n",
        "\n",
        "# Predict\n",
        "y_pred_rf = rf.predict(X_test)\n",
        "y_proba_rf = rf.predict_proba(X_test)[:, 1]"
      ],
      "metadata": {
        "id": "2bBFhscVo-I1"
      },
      "execution_count": null,
      "outputs": []
    },
    {
      "cell_type": "code",
      "source": [
        "print(\"=== Random Forest ===\")\n",
        "print(\"Confusion Matrix:\")\n",
        "print(confusion_matrix(y_test, y_pred_rf))\n",
        "print(\"\\nClassification Report:\")\n",
        "print(classification_report(y_test, y_pred_rf))\n",
        "print(\"ROC-AUC:\", roc_auc_score(y_test, y_proba_rf))"
      ],
      "metadata": {
        "colab": {
          "base_uri": "https://localhost:8080/"
        },
        "id": "hg0-wgM5pANv",
        "outputId": "3950d794-60bc-469c-d90f-1684b091d92e"
      },
      "execution_count": null,
      "outputs": [
        {
          "output_type": "stream",
          "name": "stdout",
          "text": [
            "=== Random Forest ===\n",
            "Confusion Matrix:\n",
            "[[360  10]\n",
            " [ 60  11]]\n",
            "\n",
            "Classification Report:\n",
            "              precision    recall  f1-score   support\n",
            "\n",
            "           0       0.86      0.97      0.91       370\n",
            "           1       0.52      0.15      0.24        71\n",
            "\n",
            "    accuracy                           0.84       441\n",
            "   macro avg       0.69      0.56      0.58       441\n",
            "weighted avg       0.80      0.84      0.80       441\n",
            "\n",
            "ROC-AUC: 0.7670346402740768\n"
          ]
        }
      ]
    },
    {
      "cell_type": "code",
      "source": [
        "RocCurveDisplay.from_estimator(rf, X_test, y_test)\n",
        "plt.title(\"ROC Curve - Random Forest\")\n",
        "plt.show()"
      ],
      "metadata": {
        "colab": {
          "base_uri": "https://localhost:8080/",
          "height": 472
        },
        "id": "i2nfJ-LvpFMh",
        "outputId": "45395422-b0dd-41c8-f385-c8ecc38e79e8"
      },
      "execution_count": null,
      "outputs": [
        {
          "output_type": "display_data",
          "data": {
            "text/plain": [
              "<Figure size 640x480 with 1 Axes>"
            ],
            "image/png": "[encoded data removed]"
          },
          "metadata": {}
        }
      ]
    },
    {
      "cell_type": "code",
      "source": [
        "importances_df = pd.DataFrame({\n",
        "    'Feature': X.columns,\n",
        "    'Importance': rf.feature_importances_\n",
        "}).sort_values(by='Importance', ascending=False)\n",
        "\n",
        "print(\"Top fitur (Random Forest):\")\n",
        "print(importances_df.head(10))\n"
      ],
      "metadata": {
        "colab": {
          "base_uri": "https://localhost:8080/"
        },
        "id": "mVA--_nspMJo",
        "outputId": "7a4b9087-5435-4500-d3a7-f8d8fd609e5b"
      },
      "execution_count": null,
      "outputs": [
        {
          "output_type": "stream",
          "name": "stdout",
          "text": [
            "Top fitur (Random Forest):\n",
            "                  Feature  Importance\n",
            "0                     Age    0.069264\n",
            "17      TotalWorkingYears    0.059249\n",
            "1               DailyRate    0.052421\n",
            "6              HourlyRate    0.047049\n",
            "10            MonthlyRate    0.045240\n",
            "2        DistanceFromHome    0.044953\n",
            "44  YearsWithManagerRatio    0.039342\n",
            "11     NumCompaniesWorked    0.038588\n",
            "12               OverTime    0.033783\n",
            "23   YearsWithCurrManager    0.033490\n"
          ]
        }
      ]
    }
  ]
}